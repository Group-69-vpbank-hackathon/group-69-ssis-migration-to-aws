{
 "cells": [
  {
   "cell_type": "code",
   "execution_count": null,
   "id": "59dca146",
   "metadata": {},
   "outputs": [],
   "source": [
    "from datetime import timedelta, datetime\n",
    "\n",
    "def _generate_date_ranges(start_date, end_date):\n",
    "    \"\"\"Generate list of dates between start_date and end_date (inclusive).\"\"\"\n",
    "    date_format=\"%Y-%m-%d\"\n",
    "    \n",
    "    if isinstance(start_date, str):\n",
    "        start_date = datetime.strptime(start_date, date_format)\n",
    "    if isinstance(end_date, str):\n",
    "        end_date = datetime.strptime(end_date, date_format)\n",
    "\n",
    "    report_dates = []\n",
    "    next_date = start_date\n",
    "    delta = timedelta(days=1)\n",
    "\n",
    "    while next_date <= end_date:\n",
    "        report_dates.append(next_date)\n",
    "        print(next_date.strftime(\"%Y-%m-%d\"))\n",
    "        next_date += delta\n",
    "    return report_dates\n"
   ]
  },
  {
   "cell_type": "code",
   "execution_count": 12,
   "id": "a2ec1e67",
   "metadata": {},
   "outputs": [
    {
     "name": "stdout",
     "output_type": "stream",
     "text": [
      "2025\n",
      "2025\n",
      "2025\n",
      "2025\n",
      "2025\n",
      "2025\n",
      "2025\n",
      "2025\n",
      "2025\n",
      "2025\n"
     ]
    },
    {
     "data": {
      "text/plain": [
       "[datetime.datetime(2025, 5, 1, 0, 0),\n",
       " datetime.datetime(2025, 5, 2, 0, 0),\n",
       " datetime.datetime(2025, 5, 3, 0, 0),\n",
       " datetime.datetime(2025, 5, 4, 0, 0),\n",
       " datetime.datetime(2025, 5, 5, 0, 0),\n",
       " datetime.datetime(2025, 5, 6, 0, 0),\n",
       " datetime.datetime(2025, 5, 7, 0, 0),\n",
       " datetime.datetime(2025, 5, 8, 0, 0),\n",
       " datetime.datetime(2025, 5, 9, 0, 0),\n",
       " datetime.datetime(2025, 5, 10, 0, 0)]"
      ]
     },
     "execution_count": 12,
     "metadata": {},
     "output_type": "execute_result"
    }
   ],
   "source": [
    "_generate_date_ranges('2025-05-01', '2025-05-10')"
   ]
  }
 ],
 "metadata": {
  "kernelspec": {
   "display_name": "Python 3",
   "language": "python",
   "name": "python3"
  },
  "language_info": {
   "codemirror_mode": {
    "name": "ipython",
    "version": 3
   },
   "file_extension": ".py",
   "mimetype": "text/x-python",
   "name": "python",
   "nbconvert_exporter": "python",
   "pygments_lexer": "ipython3",
   "version": "3.11.0"
  }
 },
 "nbformat": 4,
 "nbformat_minor": 5
}
